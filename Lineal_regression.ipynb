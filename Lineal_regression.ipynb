{
  "nbformat": 4,
  "nbformat_minor": 0,
  "metadata": {
    "colab": {
      "provenance": []
    },
    "kernelspec": {
      "name": "python3",
      "display_name": "Python 3"
    },
    "language_info": {
      "name": "python"
    }
  },
  "cells": [
    {
      "cell_type": "code",
      "source": [
        "import pandas as pd\n",
        "from sklearn.linear_model import LinearRegression\n",
        "from sklearn.neighbors import LocalOutlierFactor\n",
        "from sklearn.ensemble import IsolationForest\n",
        "train = pd.read_csv('/content/data_wage_train.csv')\n",
        "test = pd.read_csv ('/content/data_test.csv')\n",
        "clf = IsolationForest(n_estimators=100)\n",
        "clf.fit(wage[['wage']])\n",
        "clf = clf.predict(wage[['wage']])\n",
        "x_t = train.drop (columns ='wage')\n",
        "y_t = train ['wage']\n",
        "lr =LinearRegression()\n",
        "lr.fit(x_t,y_t)\n",
        "preds =lr.predict(test)\n",
        "pd.DataFrame({'id': range(0,106),\n",
        "              'Expected':preds}).to_csv('linear_regression.csv', index= False)"
      ],
      "metadata": {
        "id": "W-zytbc_oOV2"
      },
      "execution_count": 51,
      "outputs": []
    },
    {
      "cell_type": "code",
      "source": [],
      "metadata": {
        "id": "OSBvAFcUoR8u"
      },
      "execution_count": null,
      "outputs": []
    }
  ]
}